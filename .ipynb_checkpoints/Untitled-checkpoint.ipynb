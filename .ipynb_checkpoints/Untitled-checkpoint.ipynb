{
 "cells": [
  {
   "cell_type": "code",
   "execution_count": 1,
   "id": "aa7d3070-2db3-4c3e-b4fb-eb25ec7ab289",
   "metadata": {},
   "outputs": [],
   "source": [
    "import numpy as np"
   ]
  },
  {
   "cell_type": "code",
   "execution_count": 2,
   "id": "bee88085-10bc-449b-af2b-cbc954727ba2",
   "metadata": {},
   "outputs": [],
   "source": [
    "import pandas as pd"
   ]
  },
  {
   "cell_type": "code",
   "execution_count": 3,
   "id": "2cf89efe-1184-4313-84c6-0333bf3c8820",
   "metadata": {},
   "outputs": [],
   "source": [
    "data = pd.DataFrame({\n",
    "    'var': range(1, 11),\n",
    "    'weight': [10, 14, 18, 15, 30, 12, 20, 25, 29, 45]\n",
    "})"
   ]
  },
  {
   "cell_type": "code",
   "execution_count": 10,
   "id": "96d16fd9-449e-44b2-bfd2-4e41b7f712f0",
   "metadata": {},
   "outputs": [],
   "source": [
    "data['weighted_qcut'] = weighted_qcut(data['var'], data['weight'], 5, labels=None)\n",
    "data['qcut'] = pd.qcut(data['var'], 5, labels=False)"
   ]
  },
  {
   "cell_type": "code",
   "execution_count": 11,
   "id": "665656a7-ce55-4b3b-a4e6-4c2dcedd3cb1",
   "metadata": {},
   "outputs": [
    {
     "data": {
      "text/html": [
       "<div>\n",
       "<style scoped>\n",
       "    .dataframe tbody tr th:only-of-type {\n",
       "        vertical-align: middle;\n",
       "    }\n",
       "\n",
       "    .dataframe tbody tr th {\n",
       "        vertical-align: top;\n",
       "    }\n",
       "\n",
       "    .dataframe thead th {\n",
       "        text-align: right;\n",
       "    }\n",
       "</style>\n",
       "<table border=\"1\" class=\"dataframe\">\n",
       "  <thead>\n",
       "    <tr style=\"text-align: right;\">\n",
       "      <th></th>\n",
       "      <th>var</th>\n",
       "      <th>weight</th>\n",
       "      <th>weighted_qcut</th>\n",
       "      <th>qcut</th>\n",
       "    </tr>\n",
       "  </thead>\n",
       "  <tbody>\n",
       "    <tr>\n",
       "      <th>0</th>\n",
       "      <td>1</td>\n",
       "      <td>10</td>\n",
       "      <td>NaN</td>\n",
       "      <td>0</td>\n",
       "    </tr>\n",
       "    <tr>\n",
       "      <th>1</th>\n",
       "      <td>2</td>\n",
       "      <td>14</td>\n",
       "      <td>NaN</td>\n",
       "      <td>0</td>\n",
       "    </tr>\n",
       "    <tr>\n",
       "      <th>2</th>\n",
       "      <td>3</td>\n",
       "      <td>18</td>\n",
       "      <td>NaN</td>\n",
       "      <td>1</td>\n",
       "    </tr>\n",
       "    <tr>\n",
       "      <th>3</th>\n",
       "      <td>4</td>\n",
       "      <td>15</td>\n",
       "      <td>NaN</td>\n",
       "      <td>1</td>\n",
       "    </tr>\n",
       "    <tr>\n",
       "      <th>4</th>\n",
       "      <td>5</td>\n",
       "      <td>30</td>\n",
       "      <td>NaN</td>\n",
       "      <td>2</td>\n",
       "    </tr>\n",
       "    <tr>\n",
       "      <th>5</th>\n",
       "      <td>6</td>\n",
       "      <td>12</td>\n",
       "      <td>NaN</td>\n",
       "      <td>2</td>\n",
       "    </tr>\n",
       "    <tr>\n",
       "      <th>6</th>\n",
       "      <td>7</td>\n",
       "      <td>20</td>\n",
       "      <td>NaN</td>\n",
       "      <td>3</td>\n",
       "    </tr>\n",
       "    <tr>\n",
       "      <th>7</th>\n",
       "      <td>8</td>\n",
       "      <td>25</td>\n",
       "      <td>NaN</td>\n",
       "      <td>3</td>\n",
       "    </tr>\n",
       "    <tr>\n",
       "      <th>8</th>\n",
       "      <td>9</td>\n",
       "      <td>29</td>\n",
       "      <td>NaN</td>\n",
       "      <td>4</td>\n",
       "    </tr>\n",
       "    <tr>\n",
       "      <th>9</th>\n",
       "      <td>10</td>\n",
       "      <td>45</td>\n",
       "      <td>NaN</td>\n",
       "      <td>4</td>\n",
       "    </tr>\n",
       "  </tbody>\n",
       "</table>\n",
       "</div>"
      ],
      "text/plain": [
       "   var  weight weighted_qcut  qcut\n",
       "0    1      10           NaN     0\n",
       "1    2      14           NaN     0\n",
       "2    3      18           NaN     1\n",
       "3    4      15           NaN     1\n",
       "4    5      30           NaN     2\n",
       "5    6      12           NaN     2\n",
       "6    7      20           NaN     3\n",
       "7    8      25           NaN     3\n",
       "8    9      29           NaN     4\n",
       "9   10      45           NaN     4"
      ]
     },
     "execution_count": 14,
     "metadata": {},
     "output_type": "execute_result"
    }
   ],
   "source": [
    "data"
   ]
  },
  {
   "cell_type": "code",
   "execution_count": null,
   "id": "4bf0a471-06e9-4e58-af0a-5f1fe0d8b980",
   "metadata": {},
   "outputs": [],
   "source": []
  },
  {
   "cell_type": "code",
   "execution_count": null,
   "id": "72f1ce69-b757-4838-b432-f1e37203db21",
   "metadata": {},
   "outputs": [],
   "source": [
    "bincut = stats.mstats.mquantiles(nonandata[self.xname], prob=np.arange(0, 1, 1./self.prebin_num))"
   ]
  },
  {
   "cell_type": "code",
   "execution_count": null,
   "id": "fa378ebc-aaf9-4365-92d0-07657973f823",
   "metadata": {},
   "outputs": [],
   "source": []
  },
  {
   "cell_type": "code",
   "execution_count": null,
   "id": "05834e1f-cf02-4e0b-85e0-c51a7ccc04e0",
   "metadata": {},
   "outputs": [],
   "source": []
  },
  {
   "cell_type": "code",
   "execution_count": 19,
   "id": "ad4c4d55-2d3b-4ebd-a52e-b1772cf5dabf",
   "metadata": {},
   "outputs": [],
   "source": [
    "from scipy import stats"
   ]
  },
  {
   "cell_type": "code",
   "execution_count": 15,
   "id": "f60ecbe3-bd0a-4a74-b9c9-454de1524487",
   "metadata": {},
   "outputs": [],
   "source": [
    "import numpy as np\n",
    "import pandas as pd\n",
    "from pandas._libs.lib import is_integer\n",
    "\n",
    "def weighted_qcut(values, weights, q, **kwargs):\n",
    "    'Return weighted quantile cuts from a given series, values.'\n",
    "    if is_integer(q):\n",
    "        quantiles = np.linspace(0, 1, q + 1)\n",
    "    else:\n",
    "        quantiles = q\n",
    "    order = weights.iloc[values.argsort()].cumsum()\n",
    "    # print(order)\n",
    "    bins = pd.cut(order / order.iloc[-1], quantiles, **kwargs)\n",
    "    bincut = stats.mstats.mquantiles(order / order.iloc[-1], prob=quantiles)\n",
    "    # print(bins)\n",
    "    # print(bincut)\n",
    "    return bins.sort_index()"
   ]
  },
  {
   "cell_type": "code",
   "execution_count": null,
   "id": "a5808ef0-1feb-44ee-9575-866d385554f0",
   "metadata": {},
   "outputs": [],
   "source": []
  }
 ],
 "metadata": {
  "kernelspec": {
   "display_name": "Python 3 (ipykernel)",
   "language": "python",
   "name": "python3"
  },
  "language_info": {
   "codemirror_mode": {
    "name": "ipython",
    "version": 3
   },
   "file_extension": ".py",
   "mimetype": "text/x-python",
   "name": "python",
   "nbconvert_exporter": "python",
   "pygments_lexer": "ipython3",
   "version": "3.9.12"
  }
 },
 "nbformat": 4,
 "nbformat_minor": 5
}
